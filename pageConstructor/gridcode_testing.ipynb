{
 "cells": [
  {
   "cell_type": "code",
   "execution_count": 1,
   "metadata": {},
   "outputs": [],
   "source": [
    "import sys\n",
    "from PIL import Image\n",
    "from PIL import IptcImagePlugin\n",
    "import os\n",
    "\n",
    "descriptionFlag = False\n",
    "\n",
    "\n",
    "def get_title_description(image):\n",
    "    im = Image.open(image)\n",
    "    iptc = IptcImagePlugin.getiptcinfo(im)\n",
    "    infodict = {}\n",
    "    try:\n",
    "        infodict[\"title\"] = iptc.get((2,5)).decode()\n",
    "    except (AttributeError):\n",
    "        infodict[\"title\"] = \"\"\n",
    "    try:\n",
    "        infodict[\"description\"] = iptc.get((2,5)).decode()\n",
    "    except (AttributeError):\n",
    "        infodict[\"description\"] = \"\"\n",
    "    try:\n",
    "        infodict[\"photographer\"] = iptc.get((2,5)).decode()\n",
    "    except (AttributeError):\n",
    "        infodict[\"photographer\"] = \"Dipan\"\n",
    "    try:\n",
    "        keywordlist = iptc.get((2,25))\n",
    "        templist = []\n",
    "        if keywordlist:\n",
    "            for keyword in keywordlist:\n",
    "                templist.append(keyword.decode())\n",
    "            infodict[\"keywords\"] = \", \".join(templist)\n",
    "        else:\n",
    "            infodict[\"keywords\"] = \"\"\n",
    "    except (AttributeError):\n",
    "        infodict[\"keywords\"] = \"\"\n",
    "    return infodict\n",
    "\n",
    "def getOutputHTML(f, dirname, gallery_title):\n",
    "    \n",
    "    filename = os.path.basename(f.name)\n",
    "    basename = filename.split('-')[:-1]\n",
    "    original_filename = '-'.join(basename)\n",
    "    exifdata = get_title_description(testfile)\n",
    "    \n",
    "    href = \"./{}/{}-web.jpg\".format(dirname, original_filename)\n",
    "    src = \"./{}/thumb/{}-thumb.jpg\".format(dirname, original_filename)\n",
    "\n",
    "    outputHTML =  '<a href=\"{}\" data-toggle=\"lightbox\" data-gallery=\"{}\" data-footer= \"{}\" ><figure class=\"photothumbnail\"><img src=\"{}\" alt=\"{}\" class=\"center-block\"></figure></a>'.format(href, gallery_title, exifdata[\"description\"], src, exifdata[\"keywords\"])\n",
    "\n",
    "    return outputHTML\n",
    "\n",
    "def imageGridCode(dirName, gallerytitle):\n",
    "    html = []\n",
    "    for filename in os.listdir(dirName):\n",
    "        if filename.endswith('.jpg'):\n",
    "            f = open(dirName + filename, 'rb')\n",
    "            html.append(getOutputHTML(f, dirName, gallerytitle))\n",
    "\n",
    "\n",
    "    return '\\n'.join(html)\n",
    "\n"
   ]
  },
  {
   "cell_type": "code",
   "execution_count": 51,
   "metadata": {},
   "outputs": [],
   "source": [
    "fn = \"image1.jpg\"\n",
    "import exifread\n",
    "# Open image file for reading (binary mode)\n",
    "f = open(fn, 'rb')\n",
    "\n",
    "# Return Exif tags\n",
    "tags = exifread.process_file(f)\n"
   ]
  },
  {
   "cell_type": "code",
   "execution_count": 52,
   "metadata": {},
   "outputs": [
    {
     "data": {
      "text/plain": [
       "{'Image ImageDescription': (0x010E) ASCII=Aurora Borealis, Abisko Sweden @ 134,\n",
       " 'Image Make': (0x010F) ASCII=NIKON CORPORATION @ 166,\n",
       " 'Image Model': (0x0110) ASCII=NIKON D750 @ 184,\n",
       " 'Image XResolution': (0x011A) Ratio=240 @ 196,\n",
       " 'Image YResolution': (0x011B) Ratio=240 @ 204,\n",
       " 'Image ResolutionUnit': (0x0128) Short=Pixels/Inch @ 78,\n",
       " 'Image Software': (0x0131) ASCII=Adobe Photoshop Lightroom Classic 8.4.1 (Windows) @ 212,\n",
       " 'Image DateTime': (0x0132) ASCII=2019:12:31 01:13:51 @ 262,\n",
       " 'Image Artist': (0x013B) ASCII=Somnath Mukherjee @ 282,\n",
       " 'Image ExifOffset': (0x8769) Long=300 @ 126,\n",
       " 'EXIF ExposureTime': (0x829A) Ratio=8 @ 798,\n",
       " 'EXIF FNumber': (0x829D) Ratio=12/5 @ 806,\n",
       " 'EXIF ExposureProgram': (0x8822) Short=Manual @ 334,\n",
       " 'EXIF ISOSpeedRatings': (0x8827) Short=3200 @ 346,\n",
       " 'EXIF SensitivityType': (0x8830) Short=Recommended Exposure Index @ 358,\n",
       " 'EXIF ExifVersion': (0x9000) Undefined=0231 @ 370,\n",
       " 'EXIF DateTimeOriginal': (0x9003) ASCII=2019:11:03 23:41:45 @ 814,\n",
       " 'EXIF DateTimeDigitized': (0x9004) ASCII=2019:11:03 23:41:45 @ 834,\n",
       " 'EXIF Tag 0x9010': (0x9010) ASCII=+01:00 @ 854,\n",
       " 'EXIF ShutterSpeedValue': (0x9201) Signed Ratio=-3 @ 862,\n",
       " 'EXIF ApertureValue': (0x9202) Ratio=2526069/1000000 @ 870,\n",
       " 'EXIF ExposureBiasValue': (0x9204) Signed Ratio=0 @ 878,\n",
       " 'EXIF MaxApertureValue': (0x9205) Ratio=5/2 @ 886,\n",
       " 'EXIF MeteringMode': (0x9207) Short=Pattern @ 466,\n",
       " 'EXIF LightSource': (0x9208) Short=Unknown @ 478,\n",
       " 'EXIF Flash': (0x9209) Short=Flash did not fire, compulsory flash mode @ 490,\n",
       " 'EXIF FocalLength': (0x920A) Ratio=15 @ 894,\n",
       " 'EXIF SubSecTimeOriginal': (0x9291) ASCII=26 @ 514,\n",
       " 'EXIF SubSecTimeDigitized': (0x9292) ASCII=26 @ 526,\n",
       " 'EXIF ColorSpace': (0xA001) Short=Uncalibrated @ 538,\n",
       " 'EXIF FocalPlaneXResolution': (0xA20E) Ratio=54886891/32768 @ 902,\n",
       " 'EXIF FocalPlaneYResolution': (0xA20F) Ratio=54886891/32768 @ 910,\n",
       " 'EXIF FocalPlaneResolutionUnit': (0xA210) Short=3 @ 574,\n",
       " 'EXIF SensingMethod': (0xA217) Short=One-chip color area @ 586,\n",
       " 'EXIF FileSource': (0xA300) Undefined=Digital Camera @ 598,\n",
       " 'EXIF SceneType': (0xA301) Undefined=Directly Photographed @ 610,\n",
       " 'EXIF CVAPattern': (0xA302) Undefined=[2, 0, 2, 0, 0, 1, 1, 2] @ 918,\n",
       " 'EXIF CustomRendered': (0xA401) Short=Normal @ 634,\n",
       " 'EXIF ExposureMode': (0xA402) Short=Manual Exposure @ 646,\n",
       " 'EXIF WhiteBalance': (0xA403) Short=Auto @ 658,\n",
       " 'EXIF DigitalZoomRatio': (0xA404) Ratio=1 @ 926,\n",
       " 'EXIF FocalLengthIn35mmFilm': (0xA405) Short=15 @ 682,\n",
       " 'EXIF SceneCaptureType': (0xA406) Short=Standard @ 694,\n",
       " 'EXIF GainControl': (0xA407) Short=High gain up @ 706,\n",
       " 'EXIF Contrast': (0xA408) Short=Normal @ 718,\n",
       " 'EXIF Saturation': (0xA409) Short=Normal @ 730,\n",
       " 'EXIF Sharpness': (0xA40A) Short=Normal @ 742,\n",
       " 'EXIF SubjectDistanceRange': (0xA40C) Short=0 @ 754,\n",
       " 'EXIF BodySerialNumber': (0xA431) ASCII=6183188 @ 934,\n",
       " 'EXIF LensSpecification': (0xA432) Ratio=[15, 15, 12/5, 12/5] @ 942,\n",
       " 'EXIF LensModel': (0xA434) ASCII=15.0 mm f/2.4 @ 974}"
      ]
     },
     "execution_count": 52,
     "metadata": {},
     "output_type": "execute_result"
    }
   ],
   "source": [
    "tags"
   ]
  },
  {
   "cell_type": "code",
   "execution_count": 36,
   "metadata": {},
   "outputs": [],
   "source": []
  },
  {
   "cell_type": "code",
   "execution_count": 56,
   "metadata": {},
   "outputs": [
    {
     "name": "stdout",
     "output_type": "stream",
     "text": [
      "(1, 90) b'\\x1b%G'\n",
      "(2, 0) b'\\x00\\x04'\n",
      "(2, 5) b'The Northern Lights'\n",
      "(2, 25) [b'Abisko', b'AuroraBorealis', b'Sweden']\n",
      "(2, 55) b'20191103'\n",
      "(2, 60) b'234145'\n",
      "(2, 62) b'20191103'\n",
      "(2, 63) b'234145'\n",
      "(2, 80) b'Somnath Mukherjee'\n",
      "(2, 120) b'Aurora Borealis, Abisko Sweden'\n"
     ]
    }
   ],
   "source": [
    "from PIL import Image, IptcImagePlugin\n",
    "\n",
    "im = Image.open(fn)\n",
    "iptc = IptcImagePlugin.getiptcinfo(im)\n",
    "\n",
    "if iptc:\n",
    "    for k, v in iptc.items():\n",
    "        print(\"{} {}\".format(k, v))\n",
    "else:\n",
    "    print(\" This image has no iptc info\")\n"
   ]
  },
  {
   "cell_type": "code",
   "execution_count": 65,
   "metadata": {},
   "outputs": [
    {
     "data": {
      "text/plain": [
       "'<a href=\"./barcelona/-web.jpg\" data-toggle=\"lightbox\" data-gallery=\"BCN\" data-footer= \"The Northern Lights\" ><figure class=\"photothumbnail\"><img src=\"./barcelona/thumb/-thumb.jpg\" alt=\"Abisko, AuroraBorealis, Sweden\" class=\"center-block\"></figure></a>'"
      ]
     },
     "execution_count": 65,
     "metadata": {},
     "output_type": "execute_result"
    }
   ],
   "source": [
    "testfile = \"image1.jpg\"\n",
    "f = open(testfile, 'rb')\n",
    "\n",
    "def get_title_description(image):\n",
    "    im = Image.open(image)\n",
    "    iptc = IptcImagePlugin.getiptcinfo(im)\n",
    "    infodict = {}\n",
    "    try:\n",
    "        infodict[\"title\"] = iptc.get((2,5)).decode()\n",
    "    except (AttributeError):\n",
    "        infodict[\"title\"] = \"\"\n",
    "    try:\n",
    "        infodict[\"description\"] = iptc.get((2,5)).decode()\n",
    "    except (AttributeError):\n",
    "        infodict[\"description\"] = \"\"\n",
    "    try:\n",
    "        infodict[\"photographer\"] = iptc.get((2,5)).decode()\n",
    "    except (AttributeError):\n",
    "        infodict[\"photographer\"] = \"Dipan\"\n",
    "    try:\n",
    "        keywordlist = iptc.get((2,25))\n",
    "        templist = []\n",
    "        if keywordlist:\n",
    "            for keyword in keywordlist:\n",
    "                templist.append(keyword.decode())\n",
    "            infodict[\"keywords\"] = \", \".join(templist)\n",
    "        else:\n",
    "            infodict[\"keywords\"] = \"\"\n",
    "    except (AttributeError):\n",
    "        infodict[\"keywords\"] = \"\"\n",
    "    return infodict\n",
    "\n",
    "def getOutputHTML(f, dirname, gallery_title):\n",
    "    \n",
    "    filename = os.path.basename(f.name)\n",
    "    basename = filename.split('-')[:-1]\n",
    "    original_filename = '-'.join(basename)\n",
    "    exifdata = get_title_description(testfile)\n",
    "    \n",
    "    href = \"./{}/{}-web.jpg\".format(dirname, original_filename)\n",
    "    src = \"./{}/thumb/{}-thumb.jpg\".format(dirname, original_filename)\n",
    "\n",
    "    outputHTML =  '<a href=\"{}\" data-toggle=\"lightbox\" data-gallery=\"{}\" data-footer= \"{}\" ><figure class=\"photothumbnail\"><img src=\"{}\" alt=\"{}\" class=\"center-block\"></figure></a>'.format(href, gallery_title, exifdata[\"description\"], src, exifdata[\"keywords\"])\n",
    "\n",
    "    return outputHTML\n",
    "\n",
    "getOutputHTML(f, \"barcelona\", \"BCN\")"
   ]
  },
  {
   "cell_type": "code",
   "execution_count": null,
   "metadata": {},
   "outputs": [],
   "source": []
  },
  {
   "cell_type": "code",
   "execution_count": null,
   "metadata": {},
   "outputs": [],
   "source": []
  }
 ],
 "metadata": {
  "kernelspec": {
   "display_name": "Python 3",
   "language": "python",
   "name": "python3"
  },
  "language_info": {
   "codemirror_mode": {
    "name": "ipython",
    "version": 3
   },
   "file_extension": ".py",
   "mimetype": "text/x-python",
   "name": "python",
   "nbconvert_exporter": "python",
   "pygments_lexer": "ipython3",
   "version": "3.7.5"
  }
 },
 "nbformat": 4,
 "nbformat_minor": 2
}
