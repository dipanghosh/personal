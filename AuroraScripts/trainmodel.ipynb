{
 "cells": [
  {
   "cell_type": "code",
   "execution_count": 1,
   "metadata": {},
   "outputs": [
    {
     "name": "stderr",
     "output_type": "stream",
     "text": [
      "Using TensorFlow backend.\n"
     ]
    }
   ],
   "source": [
    "# Importing all necessary libraries \n",
    "from keras.preprocessing.image import ImageDataGenerator \n",
    "from keras.models import Sequential \n",
    "from keras.layers import Conv2D, MaxPooling2D \n",
    "from keras.layers import Activation, Dropout, Flatten, Dense \n",
    "from keras import backend as K"
   ]
  },
  {
   "cell_type": "code",
   "execution_count": 5,
   "metadata": {},
   "outputs": [
    {
     "name": "stdout",
     "output_type": "stream",
     "text": [
      "Found 643 images belonging to 2 classes.\n",
      "Found 97 images belonging to 2 classes.\n",
      "Epoch 1/30\n",
      "29/29 [==============================] - 82s 3s/step - loss: 1.2870 - acc: 0.6164 - val_loss: 0.3481 - val_acc: 0.9583\n",
      "Epoch 2/30\n",
      "29/29 [==============================] - 78s 3s/step - loss: 0.4903 - acc: 0.8147 - val_loss: 0.1163 - val_acc: 1.0000\n",
      "Epoch 3/30\n",
      "29/29 [==============================] - 76s 3s/step - loss: 0.4056 - acc: 0.8706 - val_loss: 0.0124 - val_acc: 1.0000\n",
      "Epoch 4/30\n",
      "29/29 [==============================] - 80s 3s/step - loss: 0.4930 - acc: 0.8448 - val_loss: 0.1686 - val_acc: 0.9167\n",
      "Epoch 5/30\n",
      "29/29 [==============================] - 81s 3s/step - loss: 0.3215 - acc: 0.8836 - val_loss: 0.0571 - val_acc: 0.9412\n",
      "Epoch 6/30\n",
      "29/29 [==============================] - 78s 3s/step - loss: 0.3007 - acc: 0.8922 - val_loss: 0.0214 - val_acc: 1.0000\n",
      "Epoch 7/30\n",
      "29/29 [==============================] - 79s 3s/step - loss: 0.2142 - acc: 0.9397 - val_loss: 0.0022 - val_acc: 1.0000\n",
      "Epoch 8/30\n",
      "29/29 [==============================] - 79s 3s/step - loss: 0.2992 - acc: 0.9138 - val_loss: 0.0039 - val_acc: 1.0000\n",
      "Epoch 9/30\n",
      "29/29 [==============================] - 77s 3s/step - loss: 0.3324 - acc: 0.9094 - val_loss: 0.0627 - val_acc: 1.0000\n",
      "Epoch 10/30\n",
      "29/29 [==============================] - 79s 3s/step - loss: 0.2271 - acc: 0.9353 - val_loss: 0.0063 - val_acc: 1.0000\n",
      "Epoch 11/30\n",
      "29/29 [==============================] - 80s 3s/step - loss: 0.2442 - acc: 0.9483 - val_loss: 0.0050 - val_acc: 1.0000\n",
      "Epoch 12/30\n",
      "29/29 [==============================] - 77s 3s/step - loss: 0.1813 - acc: 0.9569 - val_loss: 0.5545 - val_acc: 0.8333\n",
      "Epoch 13/30\n",
      "29/29 [==============================] - 78s 3s/step - loss: 0.3534 - acc: 0.8966 - val_loss: 0.0771 - val_acc: 0.9412\n",
      "Epoch 14/30\n",
      "29/29 [==============================] - 77s 3s/step - loss: 0.2549 - acc: 0.9310 - val_loss: 0.0159 - val_acc: 1.0000\n",
      "Epoch 15/30\n",
      "29/29 [==============================] - 78s 3s/step - loss: 0.2191 - acc: 0.9181 - val_loss: 0.0173 - val_acc: 1.0000\n",
      "Epoch 16/30\n",
      "29/29 [==============================] - 79s 3s/step - loss: 0.2412 - acc: 0.9353 - val_loss: 3.0633e-04 - val_acc: 1.0000\n",
      "Epoch 17/30\n",
      "29/29 [==============================] - 78s 3s/step - loss: 0.2294 - acc: 0.9327 - val_loss: 0.2399 - val_acc: 0.9583\n",
      "Epoch 18/30\n",
      "29/29 [==============================] - 78s 3s/step - loss: 0.0960 - acc: 0.9483 - val_loss: 2.2465e-05 - val_acc: 1.0000\n",
      "Epoch 19/30\n",
      "29/29 [==============================] - 81s 3s/step - loss: 0.1958 - acc: 0.9353 - val_loss: 0.1387 - val_acc: 0.9583\n",
      "Epoch 20/30\n",
      "29/29 [==============================] - 79s 3s/step - loss: 0.1042 - acc: 0.9741 - val_loss: 1.2660e-04 - val_acc: 1.0000\n",
      "Epoch 21/30\n",
      "29/29 [==============================] - 81s 3s/step - loss: 0.2113 - acc: 0.9526 - val_loss: 0.0970 - val_acc: 0.9583\n",
      "Epoch 22/30\n",
      "29/29 [==============================] - 79s 3s/step - loss: 0.3654 - acc: 0.9138 - val_loss: 0.2267 - val_acc: 0.9412\n",
      "Epoch 23/30\n",
      "29/29 [==============================] - 77s 3s/step - loss: 0.2281 - acc: 0.9327 - val_loss: 0.0090 - val_acc: 1.0000\n",
      "Epoch 24/30\n",
      "29/29 [==============================] - 81s 3s/step - loss: 0.2452 - acc: 0.9526 - val_loss: 9.0790e-07 - val_acc: 1.0000\n",
      "Epoch 25/30\n",
      "29/29 [==============================] - 78s 3s/step - loss: 0.1932 - acc: 0.9655 - val_loss: 0.2100 - val_acc: 0.9583\n",
      "Epoch 26/30\n",
      "29/29 [==============================] - 83s 3s/step - loss: 0.3196 - acc: 0.9542 - val_loss: 0.0433 - val_acc: 0.9412\n",
      "Epoch 27/30\n",
      "29/29 [==============================] - 79s 3s/step - loss: 0.1255 - acc: 0.9655 - val_loss: 0.0014 - val_acc: 1.0000\n",
      "Epoch 28/30\n",
      "29/29 [==============================] - 77s 3s/step - loss: 0.1546 - acc: 0.9439 - val_loss: 6.0408e-04 - val_acc: 1.0000\n",
      "Epoch 29/30\n",
      "29/29 [==============================] - 78s 3s/step - loss: 0.2467 - acc: 0.9483 - val_loss: 0.2867 - val_acc: 0.8750\n",
      "Epoch 30/30\n",
      "29/29 [==============================] - 76s 3s/step - loss: 0.2255 - acc: 0.9612 - val_loss: 1.0311e-04 - val_acc: 1.0000\n"
     ]
    },
    {
     "data": {
      "text/plain": [
       "<keras.callbacks.History at 0x21a755735c0>"
      ]
     },
     "execution_count": 5,
     "metadata": {},
     "output_type": "execute_result"
    }
   ],
   "source": [
    "train_data_dir = './train'\n",
    "validation_data_dir = './test'\n",
    "nb_train_samples =239 \n",
    "nb_validation_samples = 25\n",
    "epochs = 30\n",
    "batch_size = 8\n",
    "\n",
    "img_width, img_height = 720, 480\n",
    "\n",
    "if K.image_data_format() == 'channels_first': \n",
    "    input_shape = (3, img_width, img_height) \n",
    "else: \n",
    "    input_shape = (img_width, img_height, 3) \n",
    "    \n",
    "model = Sequential() \n",
    "model.add(Conv2D(64, (2, 2), input_shape=input_shape)) \n",
    "model.add(Activation('relu')) \n",
    "model.add(MaxPooling2D(pool_size=(2, 2))) \n",
    "  \n",
    "model.add(Conv2D(64, (2, 2))) \n",
    "model.add(Activation('relu')) \n",
    "model.add(MaxPooling2D(pool_size=(2, 2))) \n",
    "  \n",
    "model.add(Conv2D(128, (2, 2))) \n",
    "model.add(Activation('relu')) \n",
    "model.add(MaxPooling2D(pool_size=(2, 2))) \n",
    "  \n",
    "model.add(Flatten()) \n",
    "model.add(Dense(64)) \n",
    "model.add(Activation('relu')) \n",
    "model.add(Dropout(0.25)) \n",
    "model.add(Dense(1)) \n",
    "model.add(Activation('sigmoid')) \n",
    "\n",
    "model.compile(loss ='binary_crossentropy', \n",
    "                     optimizer ='rmsprop', \n",
    "                   metrics =['accuracy']) \n",
    "  \n",
    "\n",
    "train_datagen = ImageDataGenerator( \n",
    "    rescale=1. / 255, \n",
    "    shear_range=0.2, \n",
    "    zoom_range=0.2, \n",
    "    horizontal_flip=True) \n",
    "  \n",
    "test_datagen = ImageDataGenerator(rescale=1. / 255) \n",
    "  \n",
    "train_generator = train_datagen.flow_from_directory( \n",
    "    train_data_dir, \n",
    "    target_size=(img_width, img_height), \n",
    "    batch_size=batch_size, \n",
    "    class_mode='binary') \n",
    "  \n",
    "validation_generator = test_datagen.flow_from_directory( \n",
    "    validation_data_dir, \n",
    "    target_size=(img_width, img_height), \n",
    "    batch_size=batch_size, \n",
    "    class_mode='binary') \n",
    "  \n",
    "model.fit_generator( \n",
    "    train_generator, \n",
    "    steps_per_epoch=nb_train_samples // batch_size, \n",
    "    epochs=epochs, \n",
    "    validation_data=validation_generator, \n",
    "    validation_steps=nb_validation_samples // batch_size)"
   ]
  },
  {
   "cell_type": "code",
   "execution_count": 3,
   "metadata": {},
   "outputs": [
    {
     "name": "stdout",
     "output_type": "stream",
     "text": [
      "[[1.]]\n"
     ]
    }
   ],
   "source": [
    "import numpy as np\n",
    "from keras.preprocessing import image\n",
    "test_image = np.expand_dims(image.img_to_array(image.load_img(\"test.jpg\", target_size=(720, 480))),axis=0)\n",
    "print(model.predict(test_image))\n",
    "\n"
   ]
  },
  {
   "cell_type": "code",
   "execution_count": 6,
   "metadata": {},
   "outputs": [],
   "source": [
    "model.save(\"aurora-model-0.2.1.h5\")"
   ]
  },
  {
   "cell_type": "code",
   "execution_count": null,
   "metadata": {},
   "outputs": [],
   "source": []
  }
 ],
 "metadata": {
  "kernelspec": {
   "display_name": "Python [conda env:keras]",
   "language": "python",
   "name": "conda-env-keras-py"
  },
  "language_info": {
   "codemirror_mode": {
    "name": "ipython",
    "version": 3
   },
   "file_extension": ".py",
   "mimetype": "text/x-python",
   "name": "python",
   "nbconvert_exporter": "python",
   "pygments_lexer": "ipython3",
   "version": "3.6.8"
  }
 },
 "nbformat": 4,
 "nbformat_minor": 2
}
