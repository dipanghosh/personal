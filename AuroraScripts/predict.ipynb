{
 "cells": [
  {
   "cell_type": "code",
   "execution_count": 4,
   "metadata": {},
   "outputs": [
    {
     "name": "stderr",
     "output_type": "stream",
     "text": [
      "Using TensorFlow backend.\n"
     ]
    },
    {
     "name": "stdout",
     "output_type": "stream",
     "text": [
      "WARNING:tensorflow:From D:\\anaconda3\\envs\\keras\\lib\\site-packages\\tensorflow\\python\\framework\\op_def_library.py:263: colocate_with (from tensorflow.python.framework.ops) is deprecated and will be removed in a future version.\n",
      "Instructions for updating:\n",
      "Colocations handled automatically by placer.\n",
      "WARNING:tensorflow:From D:\\anaconda3\\envs\\keras\\lib\\site-packages\\keras\\backend\\tensorflow_backend.py:3445: calling dropout (from tensorflow.python.ops.nn_ops) with keep_prob is deprecated and will be removed in a future version.\n",
      "Instructions for updating:\n",
      "Please use `rate` instead of `keep_prob`. Rate should be set to `rate = 1 - keep_prob`.\n",
      "WARNING:tensorflow:From D:\\anaconda3\\envs\\keras\\lib\\site-packages\\tensorflow\\python\\ops\\math_ops.py:3066: to_int32 (from tensorflow.python.ops.math_ops) is deprecated and will be removed in a future version.\n",
      "Instructions for updating:\n",
      "Use tf.cast instead.\n"
     ]
    }
   ],
   "source": [
    "from keras.models import load_model\n",
    "import re\n",
    "import requests\n",
    "from bs4 import BeautifulSoup\n",
    "import time, os\n",
    "import urllib.request\n",
    "from urllib.request import HTTPError\n",
    "import numpy as np\n",
    "from keras.preprocessing import image\n",
    "import imageio\n",
    "from tqdm import tqdm_notebook\n",
    "\n",
    "model = load_model(\"aurora-model-0.2.h5\")"
   ]
  },
  {
   "cell_type": "code",
   "execution_count": 11,
   "metadata": {},
   "outputs": [],
   "source": [
    "headers={'User-Agent': 'Mozilla/5.0 (X11; Linux x86_64) AppleWebKit/537.11 (KHTML, like Gecko) Chrome/23.0.1271.64 Safari/537.11',\n",
    "   'Accept': 'text/html,application/xhtml+xml,application/xml;q=0.9,*/*;q=0.8',\n",
    "   'Accept-Charset': 'ISO-8859-1,utf-8;q=0.7,*;q=0.3',\n",
    "   'Accept-Encoding': 'none',\n",
    "   'Accept-Language': 'en-US,en;q=0.8',\n",
    "   'Connection': 'keep-alive'}\n",
    "def get_processed_image(img):\n",
    "    baseurl = 'http://nordlys.nipr.ac.jp/acaurora/Syowa/'\n",
    "    try:\n",
    "        t_image = imageio.imread(baseurl+img[2:]).reshape(720, 480, 3)\n",
    "        return np.expand_dims(t_image,axis=0)\n",
    "    except HTTPError as e:\n",
    "        return None\n",
    "def day_predictions(date):\n",
    "    site = 'http://nordlys.nipr.ac.jp/acaurora/Syowa/html/wrap.php?html='+str(date)+'.html'\n",
    "\n",
    "    response = requests.get(site)\n",
    "\n",
    "    soup = BeautifulSoup(response.text, 'html.parser')\n",
    "    img_tags = soup.find_all('img', src = re.compile(r'20'))\n",
    "    imgs = [img['src'] for img in img_tags if not 'kog' in img['src']]\n",
    "\n",
    "    predictions = []\n",
    "    \n",
    "    for img in tqdm_notebook(imgs):\n",
    "        img = img[:-5]+\".jpg\"\n",
    "        test_image = get_processed_image(img)\n",
    "        if test_image is not None:\n",
    "            result = model.predict(test_image)\n",
    "            predictions.append((result)[0][0])\n",
    "        else:\n",
    "            print (img+\" not found\")\n",
    "    return predictions\n",
    "\n",
    "\n",
    "if __name__ == __main__:\n",
    "    pass"
   ]
  },
  {
   "cell_type": "code",
   "execution_count": 12,
   "metadata": {},
   "outputs": [
    {
     "data": {
      "text/plain": [
       "[0.0, 0.0, 0.0, 0.0, 0.0]"
      ]
     },
     "execution_count": 12,
     "metadata": {},
     "output_type": "execute_result"
    }
   ],
   "source": []
  },
  {
   "cell_type": "code",
   "execution_count": null,
   "metadata": {},
   "outputs": [],
   "source": []
  }
 ],
 "metadata": {
  "kernelspec": {
   "display_name": "Python [conda env:keras]",
   "language": "python",
   "name": "conda-env-keras-py"
  },
  "language_info": {
   "codemirror_mode": {
    "name": "ipython",
    "version": 3
   },
   "file_extension": ".py",
   "mimetype": "text/x-python",
   "name": "python",
   "nbconvert_exporter": "python",
   "pygments_lexer": "ipython3",
   "version": "3.6.8"
  }
 },
 "nbformat": 4,
 "nbformat_minor": 2
}
