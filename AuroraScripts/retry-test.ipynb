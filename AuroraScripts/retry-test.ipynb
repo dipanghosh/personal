{
 "cells": [
  {
   "cell_type": "code",
   "execution_count": 1,
   "metadata": {},
   "outputs": [],
   "source": [
    "year = 2018\n",
    "montagedir = \"datemontages/\"+str(year)"
   ]
  },
  {
   "cell_type": "code",
   "execution_count": 5,
   "metadata": {},
   "outputs": [],
   "source": [
    "import os\n",
    "dates= [i.split(\"-\")[0] for i in os.listdir(montagedir)]"
   ]
  },
  {
   "cell_type": "code",
   "execution_count": 6,
   "metadata": {},
   "outputs": [
    {
     "data": {
      "text/plain": [
       "['20180309',\n",
       " '20180317',\n",
       " '20180318',\n",
       " '20180319',\n",
       " '20180323',\n",
       " '20180324',\n",
       " '20180326',\n",
       " '20180327',\n",
       " '20180405',\n",
       " '20180409',\n",
       " '20180410',\n",
       " '20180411',\n",
       " '20180420',\n",
       " '20180423',\n",
       " '20180505',\n",
       " '20180506',\n",
       " '20180508',\n",
       " '20180509',\n",
       " '20180511',\n",
       " '20180512',\n",
       " '20180513',\n",
       " '20180514',\n",
       " '20180515',\n",
       " '20180516',\n",
       " '20180517',\n",
       " '20180518',\n",
       " '20180611',\n",
       " '20180612',\n",
       " '20180613',\n",
       " '20180614',\n",
       " '20180618',\n",
       " '20180619',\n",
       " '20180705',\n",
       " '20180816',\n",
       " '20180817',\n",
       " '20180818',\n",
       " '20180819',\n",
       " '20180820',\n",
       " '20180821',\n",
       " '20180822',\n",
       " '20180906',\n",
       " '20180907',\n",
       " '20180910',\n",
       " '20180911',\n",
       " '20180913',\n",
       " '20180914',\n",
       " '20180915',\n",
       " '20180927',\n",
       " '20180928',\n",
       " '20180929',\n",
       " '20181001',\n",
       " '20181003',\n",
       " '20181005',\n",
       " '20181007',\n",
       " '20181008']"
      ]
     },
     "execution_count": 6,
     "metadata": {},
     "output_type": "execute_result"
    }
   ],
   "source": [
    "dates"
   ]
  },
  {
   "cell_type": "code",
   "execution_count": 7,
   "metadata": {},
   "outputs": [
    {
     "data": {
      "text/plain": [
       "'20180309'"
      ]
     },
     "execution_count": 7,
     "metadata": {},
     "output_type": "execute_result"
    }
   ],
   "source": [
    "str(dates[0])"
   ]
  },
  {
   "cell_type": "code",
   "execution_count": null,
   "metadata": {},
   "outputs": [],
   "source": []
  }
 ],
 "metadata": {
  "kernelspec": {
   "display_name": "Python 3",
   "language": "python",
   "name": "python3"
  },
  "language_info": {
   "codemirror_mode": {
    "name": "ipython",
    "version": 3
   },
   "file_extension": ".py",
   "mimetype": "text/x-python",
   "name": "python",
   "nbconvert_exporter": "python",
   "pygments_lexer": "ipython3",
   "version": "3.6.8"
  }
 },
 "nbformat": 4,
 "nbformat_minor": 2
}
