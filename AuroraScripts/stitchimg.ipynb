{
 "cells": [
  {
   "cell_type": "code",
   "execution_count": 1,
   "metadata": {},
   "outputs": [
    {
     "name": "stdout",
     "output_type": "stream",
     "text": [
      "Testing D:\\SDO_Data\\AIA_171\\.ipynb_checkpoints\n",
      "Testing D:\\SDO_Data\\AIA_171\\20110101\n",
      "Testing D:\\SDO_Data\\AIA_171\\20110104\n",
      "Testing D:\\SDO_Data\\AIA_171\\20110105\n",
      "Testing D:\\SDO_Data\\AIA_171\\20110106\n",
      "Testing D:\\SDO_Data\\AIA_171\\20110107\n",
      "Testing D:\\SDO_Data\\AIA_171\\20110108\n",
      "Testing D:\\SDO_Data\\AIA_171\\20110109\n",
      "Testing D:\\SDO_Data\\AIA_171\\20110110\n",
      "Testing D:\\SDO_Data\\AIA_171\\20110111\n",
      "Testing D:\\SDO_Data\\AIA_171\\20110112\n",
      "Testing D:\\SDO_Data\\AIA_171\\20110113\n",
      "Testing D:\\SDO_Data\\AIA_171\\20110114\n",
      "Testing D:\\SDO_Data\\AIA_171\\20110115\n",
      "Testing D:\\SDO_Data\\AIA_171\\20110116\n",
      "Testing D:\\SDO_Data\\AIA_171\\20110117\n",
      "Testing D:\\SDO_Data\\AIA_171\\20110118\n",
      "Testing D:\\SDO_Data\\AIA_171\\20110119\n",
      "Testing D:\\SDO_Data\\AIA_171\\20110120\n",
      "Testing D:\\SDO_Data\\AIA_171\\20110121\n",
      "Testing D:\\SDO_Data\\AIA_171\\20110122\n",
      "Testing D:\\SDO_Data\\AIA_171\\20110123\n",
      "Testing D:\\SDO_Data\\AIA_171\\20110124\n",
      "Testing D:\\SDO_Data\\AIA_171\\20110125\n",
      "Testing D:\\SDO_Data\\AIA_171\\20110126\n",
      "Testing D:\\SDO_Data\\AIA_171\\20110127\n",
      "Testing D:\\SDO_Data\\AIA_171\\20110128\n",
      "Testing D:\\SDO_Data\\AIA_171\\20110129\n",
      "Testing D:\\SDO_Data\\AIA_171\\20110130\n",
      "Testing D:\\SDO_Data\\AIA_171\\20110131\n",
      "Testing D:\\SDO_Data\\AIA_171\\20110201\n",
      "Testing D:\\SDO_Data\\AIA_171\\20110202\n",
      "Testing D:\\SDO_Data\\AIA_171\\20110203\n",
      "Testing D:\\SDO_Data\\AIA_171\\20110204\n",
      "Testing D:\\SDO_Data\\AIA_171\\20110205\n",
      "Testing D:\\SDO_Data\\AIA_171\\20110206\n",
      "Testing D:\\SDO_Data\\AIA_171\\20110207\n",
      "Testing D:\\SDO_Data\\AIA_171\\20110208\n",
      "Testing D:\\SDO_Data\\AIA_171\\20110209\n",
      "Testing D:\\SDO_Data\\AIA_171\\20110210\n",
      "Testing D:\\SDO_Data\\AIA_171\\20110211\n",
      "Testing D:\\SDO_Data\\AIA_171\\20110212\n",
      "Testing D:\\SDO_Data\\AIA_171\\20110213\n",
      "Testing D:\\SDO_Data\\AIA_171\\20110214\n",
      "Testing D:\\SDO_Data\\AIA_171\\20110215\n",
      "Testing D:\\SDO_Data\\AIA_171\\movies\n",
      "Testing D:\\SDO_Data\\AIA_171\\SDO_Download.ipynb\n"
     ]
    },
    {
     "ename": "NotADirectoryError",
     "evalue": "[WinError 267] The directory name is invalid: 'D:\\\\SDO_Data\\\\AIA_171\\\\SDO_Download.ipynb'",
     "output_type": "error",
     "traceback": [
      "\u001b[1;31m---------------------------------------------------------------------------\u001b[0m",
      "\u001b[1;31mNotADirectoryError\u001b[0m                        Traceback (most recent call last)",
      "\u001b[1;32m<ipython-input-1-551f3bb0d1bd>\u001b[0m in \u001b[0;36m<module>\u001b[1;34m\u001b[0m\n\u001b[0;32m      9\u001b[0m     \u001b[0mbase_dir\u001b[0m \u001b[1;33m=\u001b[0m \u001b[0mos\u001b[0m\u001b[1;33m.\u001b[0m\u001b[0mpath\u001b[0m\u001b[1;33m.\u001b[0m\u001b[0mrealpath\u001b[0m\u001b[1;33m(\u001b[0m\u001b[0mi\u001b[0m\u001b[1;33m)\u001b[0m\u001b[1;33m\u001b[0m\u001b[1;33m\u001b[0m\u001b[0m\n\u001b[0;32m     10\u001b[0m     \u001b[0mprint\u001b[0m \u001b[1;33m(\u001b[0m\u001b[1;34m\"Testing \"\u001b[0m\u001b[1;33m+\u001b[0m \u001b[0mbase_dir\u001b[0m\u001b[1;33m)\u001b[0m\u001b[1;33m\u001b[0m\u001b[1;33m\u001b[0m\u001b[0m\n\u001b[1;32m---> 11\u001b[1;33m     \u001b[1;32mfor\u001b[0m \u001b[0mfilename\u001b[0m \u001b[1;32min\u001b[0m \u001b[0mlistdir\u001b[0m\u001b[1;33m(\u001b[0m\u001b[0mbase_dir\u001b[0m\u001b[1;33m)\u001b[0m\u001b[1;33m:\u001b[0m\u001b[1;33m\u001b[0m\u001b[1;33m\u001b[0m\u001b[0m\n\u001b[0m\u001b[0;32m     12\u001b[0m         \u001b[1;32mif\u001b[0m \u001b[0mfilename\u001b[0m\u001b[1;33m.\u001b[0m\u001b[0mendswith\u001b[0m\u001b[1;33m(\u001b[0m\u001b[1;34m'.jpg'\u001b[0m\u001b[1;33m)\u001b[0m\u001b[1;33m:\u001b[0m\u001b[1;33m\u001b[0m\u001b[1;33m\u001b[0m\u001b[0m\n\u001b[0;32m     13\u001b[0m             \u001b[1;32mtry\u001b[0m\u001b[1;33m:\u001b[0m\u001b[1;33m\u001b[0m\u001b[1;33m\u001b[0m\u001b[0m\n",
      "\u001b[1;31mNotADirectoryError\u001b[0m: [WinError 267] The directory name is invalid: 'D:\\\\SDO_Data\\\\AIA_171\\\\SDO_Download.ipynb'"
     ]
    }
   ],
   "source": [
    "import os\n",
    "from os import listdir\n",
    "from PIL import Image\n",
    "\n",
    "basepath = \"D:\\\\SDO_Data\\\\AIA_171\\\\\"\n",
    "dir_list = [\"/\".join((basepath, i)) for i in os.listdir(basepath)]\n",
    "\n",
    "for i in dir_list:\n",
    "    base_dir = os.path.realpath(i)\n",
    "    print (\"Testing \"+ base_dir)\n",
    "    for filename in listdir(base_dir):\n",
    "        if filename.endswith('.jpg'):\n",
    "            try:\n",
    "                img = Image.open(base_dir+\"\\\\\"+filename) # open the image file\n",
    "                img.verify() # verify that it is, in fact an image\n",
    "            except (IOError, SyntaxError) as e:\n",
    "                print('Bad file:', filename)\n",
    "                os.remove(base_dir+\"\\\\\"+filename)"
   ]
  },
  {
   "cell_type": "code",
   "execution_count": null,
   "metadata": {},
   "outputs": [
    {
     "name": "stdout",
     "output_type": "stream",
     "text": [
      "D:\\SDO_Data\\AIA_171\\20110104\n",
      "Producing video file...\n",
      "Exists, Skipped\n",
      "D:\\SDO_Data\\AIA_171\\20110105\n",
      "Producing video file...\n",
      "[MoviePy] >>>> Building video D:\\SDO_Data\\AIA_171\\movies\\20110105.mp4\n",
      "[MoviePy] Writing video D:\\SDO_Data\\AIA_171\\movies\\20110105.mp4\n"
     ]
    },
    {
     "name": "stderr",
     "output_type": "stream",
     "text": [
      " 41%|█████████████████████████████████▌                                               | 63/152 [00:25<00:35,  2.53it/s]"
     ]
    }
   ],
   "source": [
    "import os\n",
    "import moviepy.editor as mpe\n",
    "\n",
    "basepath = \"D:\\\\SDO_Data\\\\AIA_171\"\n",
    "dir_list = [\"/\".join((basepath, i)) for i in os.listdir(basepath)]\n",
    "\n",
    "if not os.path.exists(basepath+\"/movies\"):\n",
    "    os.mkdir(basepath+\"/movies\")\n",
    "dir_list = [\"/\".join((basepath, i)) for i in os.listdir(basepath)]\n",
    "\n",
    "for i in dir_list[2:]:\n",
    "    base_dir = os.path.realpath(i)\n",
    "    movie_name = i.split(\"/\")[-1]\n",
    "    print(base_dir)\n",
    "    filenames=[base_dir +\"\\\\\"+ fname for fname in sorted(os.listdir(base_dir))]\n",
    "\n",
    "    #print(directory)\n",
    "\n",
    "\n",
    "    # Create video file from PNGs\n",
    "    print(\"Producing video file...\")\n",
    "    filename  = os.path.join(os.path.realpath(basepath)+\"\\\\movies\\\\\"+movie_name+\".mp4\")\n",
    "    if not os.path.isfile(filename):\n",
    "        clip      = mpe.ImageSequenceClip(filenames, fps=24)\n",
    "        clip.write_videofile(filename)\n",
    "        print(\"Done!\")\n",
    "    else:\n",
    "        print (\"Exists, Skipped\")\n",
    "    "
   ]
  },
  {
   "cell_type": "code",
   "execution_count": 29,
   "metadata": {},
   "outputs": [],
   "source": [
    "basepath = \"./AuroraImages/2018\"\n",
    "pathlist = [\"/\".join((basepath, i)) for i in os.listdir(basepath)]\n"
   ]
  },
  {
   "cell_type": "code",
   "execution_count": 30,
   "metadata": {},
   "outputs": [
    {
     "data": {
      "text/plain": [
       "['./AuroraImages/2018/20180309',\n",
       " './AuroraImages/2018/20180317',\n",
       " './AuroraImages/2018/20180318',\n",
       " './AuroraImages/2018/20180319',\n",
       " './AuroraImages/2018/20180323',\n",
       " './AuroraImages/2018/20180324',\n",
       " './AuroraImages/2018/20180326',\n",
       " './AuroraImages/2018/20180327',\n",
       " './AuroraImages/2018/20180405',\n",
       " './AuroraImages/2018/20180409',\n",
       " './AuroraImages/2018/20180410',\n",
       " './AuroraImages/2018/20180420',\n",
       " './AuroraImages/2018/20180423',\n",
       " './AuroraImages/2018/20180506',\n",
       " './AuroraImages/2018/20180508',\n",
       " './AuroraImages/2018/20180511',\n",
       " './AuroraImages/2018/20180514',\n",
       " './AuroraImages/2018/20180517',\n",
       " './AuroraImages/2018/20180612',\n",
       " './AuroraImages/2018/20180618',\n",
       " './AuroraImages/2018/20180816',\n",
       " './AuroraImages/2018/20180819',\n",
       " './AuroraImages/2018/20180822',\n",
       " './AuroraImages/2018/20180906',\n",
       " './AuroraImages/2018/20180907',\n",
       " './AuroraImages/2018/20180910',\n",
       " './AuroraImages/2018/20180911',\n",
       " './AuroraImages/2018/20180914',\n",
       " './AuroraImages/2018/20180915',\n",
       " './AuroraImages/2018/20180927',\n",
       " './AuroraImages/2018/20180928',\n",
       " './AuroraImages/2018/20180929',\n",
       " './AuroraImages/2018/20181001',\n",
       " './AuroraImages/2018/20181003',\n",
       " './AuroraImages/2018/20181005',\n",
       " './AuroraImages/2018/20181007',\n",
       " './AuroraImages/2018/20181008']"
      ]
     },
     "execution_count": 30,
     "metadata": {},
     "output_type": "execute_result"
    }
   ],
   "source": [
    "os.path.realpath('./AuroraImages/2018/20180309')"
   ]
  },
  {
   "cell_type": "code",
   "execution_count": 2,
   "metadata": {},
   "outputs": [],
   "source": [
    "\n",
    "import os\n",
    "from os import listdir\n",
    "from PIL import Image\n",
    "import moviepy.editor as mpe\n"
   ]
  },
  {
   "cell_type": "code",
   "execution_count": null,
   "metadata": {},
   "outputs": [],
   "source": []
  }
 ],
 "metadata": {
  "kernelspec": {
   "display_name": "Python 3",
   "language": "python",
   "name": "python3"
  },
  "language_info": {
   "codemirror_mode": {
    "name": "ipython",
    "version": 3
   },
   "file_extension": ".py",
   "mimetype": "text/x-python",
   "name": "python",
   "nbconvert_exporter": "python",
   "pygments_lexer": "ipython3",
   "version": "3.7.5"
  }
 },
 "nbformat": 4,
 "nbformat_minor": 2
}
